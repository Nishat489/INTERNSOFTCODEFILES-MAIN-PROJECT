{
 "cells": [
  {
   "cell_type": "code",
   "execution_count": 1,
   "metadata": {},
   "outputs": [],
   "source": [
    "import os\n",
    "import time\n",
    "import subprocess\n",
    "import json\n"
   ]
  },
  {
   "cell_type": "code",
   "execution_count": 2,
   "metadata": {},
   "outputs": [],
   "source": [
    "import wolframalpha\n",
    "import requests\n",
    "import webbrowser\n",
    "import wikipedia\n",
    "import datetime\n"
   ]
  },
  {
   "cell_type": "code",
   "execution_count": 3,
   "metadata": {},
   "outputs": [],
   "source": [
    "import speech_recognition as sr\n",
    "import pyttsx3\n"
   ]
  },
  {
   "cell_type": "code",
   "execution_count": 4,
   "metadata": {},
   "outputs": [
    {
     "name": "stdout",
     "output_type": "stream",
     "text": [
      "LOADING YOUR A.T PERSONAL ASSISTANT JARVIS\n"
     ]
    }
   ],
   "source": [
    "print(\"LOADING YOUR A.T PERSONAL ASSISTANT JARVIS\")"
   ]
  },
  {
   "cell_type": "code",
   "execution_count": 5,
   "metadata": {},
   "outputs": [],
   "source": [
    "engine = pyttsx3.init('sapi5')\n",
    "voices = engine.getProperty('voices')\n",
    "engine.setProperty(\"voice\",'voice[0].id')"
   ]
  },
  {
   "cell_type": "code",
   "execution_count": 6,
   "metadata": {},
   "outputs": [],
   "source": [
    "def speak(text):\n",
    "    engine.say(text)\n",
    "    engine.runAndWait()"
   ]
  },
  {
   "cell_type": "code",
   "execution_count": 7,
   "metadata": {},
   "outputs": [],
   "source": [
    "def WishMe():\n",
    "    hour = datetime.datetime.now().hour\n",
    "    \n",
    "    if hour >=5 and hour <6:\n",
    "        speak(\"Assalam Wa Allaikum Its Fajar Time Go And Do Read Namaaz\")\n",
    "        print(\"Assalam Wa Allaikum Its Fajar Time Go And Do Read Namaaz\")\n",
    "        \n",
    "    elif hour >=8 and hour <12:\n",
    "        speak(\"Assalam Wa Allaikum Good Morning Ms.Nisha Have A Good Day\")\n",
    "        print(\"Assalam Wa Allaikum Good Morning Ms.Nisha Have A Good day\")\n",
    "        \n",
    "    elif hour >=1 and hour <2:\n",
    "        speak(\"Assalam Wa Allaikum Its Zohar Time Go And Do Read Namaaz\")\n",
    "        print(\"Assalam Wa Allaikum Its Zohar Time Go And Do Read Namaaz\")   \n",
    "        \n",
    "    elif hour >=2 and hour <=17:\n",
    "        speak(\"Assalam Wa Allaikum Good Afternoon Ms.Nisha How Can I help You\")\n",
    "        print(\"Assalam Wa Allaikum Good Afternoon Ms.Nisha How Can I help You\")\n",
    "   \n",
    "    elif hour >=18 and hour <19:\n",
    "        speak(\"Assalam Wa Allaikum Its Asar Time Go And Do Read Namaaz\")\n",
    "        print(\"Assalam Wa Allaikum Its Asar Time Go And Do Read Namaaz\")\n",
    "        \n",
    "    elif hour >=19 and hour <20:\n",
    "        speak(\"Assalam Wa Allaikum Its Mogribh Time Go And Do Read Namaaz\")\n",
    "        print(\"Assalam Wa Allaikum Its Mogribh Time Go And Do Read Namaaz\")\n",
    "\n",
    "\n",
    "    elif hour >=20 and hour <22:\n",
    "        speak(\"Assalam Wa Allaikum Its Isha Time Go And Do Read Namaaz\")\n",
    "        print(\"Assalam Wa Allaikum Its Isha Time Go And Do Read Namaaz\")\n",
    "   \n",
    "    else :\n",
    "        speak(\"Its Already The Night go to sleep Nisha\")\n",
    "        print(\"Its Already The Night go to sleep Nisha\")\n",
    "        "
   ]
  },
  {
   "cell_type": "code",
   "execution_count": 8,
   "metadata": {},
   "outputs": [],
   "source": [
    "def takeCommand():\n",
    "    r = sr.Recognizer()\n",
    "    with sr.Microphone() as source:\n",
    "        print(\"I AM LISTENING\")\n",
    "        audio = r.listen(source)\n",
    "        \n",
    "        \n",
    "        try:\n",
    "            statement = r.recognize_google(audio, language = 'en-in')\n",
    "            print(f\"user said : {statement}\\n\")\n",
    "            \n",
    "        except Exception as e:\n",
    "            speak(\"Pardon Me, Please Say That Again\")\n",
    "            return\"None\"\n",
    "        return statement\n",
    "            \n"
   ]
  },
  {
   "cell_type": "code",
   "execution_count": 9,
   "metadata": {},
   "outputs": [
    {
     "name": "stdout",
     "output_type": "stream",
     "text": [
      "Its Already The Night go to sleep Nisha\n"
     ]
    }
   ],
   "source": [
    "speak(\"LOADING YOU PERSONAL A.I ASSISTANT JARVIS\")\n",
    "WishMe()"
   ]
  },
  {
   "cell_type": "code",
   "execution_count": null,
   "metadata": {},
   "outputs": [
    {
     "name": "stdout",
     "output_type": "stream",
     "text": [
      "I AM LISTENING\n",
      "user said : open YouTube\n",
      "\n",
      "I AM LISTENING\n",
      "user said : English is open YouTube\n",
      "\n",
      "I AM LISTENING\n",
      "I AM LISTENING\n",
      "I AM LISTENING\n",
      "user said : Shayad Kasam Nahin Hai\n",
      "\n",
      "I AM LISTENING\n",
      "I AM LISTENING\n",
      "I AM LISTENING\n",
      "I AM LISTENING\n",
      "I AM LISTENING\n",
      "I AM LISTENING\n"
     ]
    }
   ],
   "source": [
    "if __name__ == '__main__':\n",
    "    while True:\n",
    "        speak(\"How can I help You\")\n",
    "        statement = takeCommand().lower()\n",
    "        if statement == 0:\n",
    "            continue\n",
    "        if \"good bye\" in statement or \"ok bye\" in statement or \"Allah Hafiz\" in statement or \"khuda hafiz\" in statement or \"stop\" in statement:\n",
    "            speak(\"your personal A.I Assistant is shutting down, Good Bye\")\n",
    "            print(\"your personal A.I Assistant is shutting down, Good Bye\")\n",
    "            \n",
    "            break\n",
    "            \n",
    "        if 'wikipedia' in statement:\n",
    "            speak(\"searching wikipedia...\")\n",
    "            statement = statement.replace(\"wikipedia\",\"\")\n",
    "            results = wikipedia.summary(statement.sentances==3)\n",
    "            speak(\"according To Wikipedia....\")\n",
    "            print(results)\n",
    "            Speak(results)\n",
    "            \n",
    "        elif \"open Youtube\" in statement:\n",
    "            webbrowser.open_new_tab(\"http://www.youtube.com\")\n",
    "            speak(\"youtube is open for you\")\n",
    "            time.sleep(5)\n",
    "            \n",
    "        elif \"open Google\" in statement:\n",
    "            webbrowser.open_new_tab(\"http://www.google.com\")\n",
    "            speak(\"Google is open for you\")\n",
    "            time.sleep(5)\n",
    "            \n",
    "        elif \"open gamil\" in statement:\n",
    "            webbrowser.open_new_tab(\"http://www.gmail.com\")\n",
    "            speak(\"your gmail is open for you\")\n",
    "            time.sleep(5)    \n",
    "            \n",
    "        elif \"weather\" in statement:\n",
    "            api_key = \"8ef61edcf1c576d65d836254e11ea420\"\n",
    "            base_url = \"https://api.openweathermap.org/data/2.5/weather?\"\n",
    "            speak(\"what is he city name\")\n",
    "            city_name = takeCommand()\n",
    "            complete_url = base_url + \"appid=\"+api_key +\"&q=\"+city_name\n",
    "            response = requests.get(complete_url)\n",
    "            x = response.json()\n",
    "            if x[\"cod\"] != \"404\":\n",
    "                y = x[\"main\"] \n",
    "                currnt_temperature = y[\"temp\"]\n",
    "                current_humidty = y[\"humidity\"]\n",
    "                z = x[\"weather\"]\n",
    "                wether_description = z[0][\"description\"]\n",
    "                speak(\"the temperature in kelvin units is\" + str(current_temperature) +\"\\n humidity in percentage is\" + str(current_humidity) +\"\\n weather description is\" + str(weather_description))\n",
    "                print(\"the temperature in kelvin units is\" + str(current_temperature) +\"\\n humidity in percentage is\" + str(current_humidity) +\"\\n weather description is\" + str(weather_description))\n",
    "            else:\n",
    "                speak(\"city is not found\")\n",
    "                print(\"city is not found\")\n",
    "            \n",
    "        elif \"time\" in statement:\n",
    "            strTime = datatime.datetime.now().strftime(\"%H:%M:%S\")\n",
    "            speak(f\"the time is {strtime}\")\n",
    "                \n",
    "            \n",
    "        elif \"who are you\" in statement or \"what can you do\" in statement:\n",
    "            speak('I AM JARVIS version 1 point 0 your personal assistant. I am programmed to minor task like,  can open YouTube, Gmail, Google chrome and stack overflow. Predict current time, take a photo, search Wikipedia to abstract required data, predict weather in different cities, get top headline news from Times of India and can answer computational and geographical questions too!')\n",
    "            \n",
    "        elif \"who made you\" in statement or \"who Created You\" in statement or \"who discovered you\" in statement:\n",
    "            speak(\"I WAS BUILT BY NISHAAAAAA\")\n",
    "            print(\" I WAS BUILT BY NISHAAAA\")\n",
    "                \n",
    "        \n",
    "        elif \"open stackoverflow\" in statement:\n",
    "            webbrowser.open_new_tab(\"https://stackoverflow.com/login\")\n",
    "            time.sleep(5)\n",
    "                \n",
    "        elif \"news\" in statement:\n",
    "            news = webbrowser.open_new_tab(\"https://timesofindia.indiatimes.com/home/headlines\")\n",
    "            speak(\"here are some headlines for you from times of India - happy reading\")\n",
    "            time.sleep(7)\n",
    "        \n",
    "        elif \"search\" in statement:\n",
    "            statement = statement.replace(\"search\",\"\")\n",
    "            webbrowser.open_new_tab(\"statement\")\n",
    "            time.sleep(5)\n",
    "            \n",
    "        elif \"ask\" in statement:\n",
    "            speak(\"I can answer the computational and geographical questions too just try me!! what do u want to ask\")\n",
    "            question = takeCommand()\n",
    "            app_id = \"app_id=“R2K75H-7ELALHR35X\"\n",
    "            client = wolframalpha.Client(\"app_id=“R2K75H-7ELALHR35X\")\n",
    "            res = client.query(question)\n",
    "            answer = next(res.results).text\n",
    "            speak(answer)\n",
    "            print(answer)\n",
    "       \n",
    "      \n",
    "        elif \"log off\" in statement or \"sign out\" in statement or \"shut down\" in statement:\n",
    "            speak(\"Ok , your PC will log off in 10 seconds - make sure you have saved and exit from all aplications\")\n",
    "            subprocess.call(['shutdown',\"/1\"])\n",
    "        \n",
    "        time.sleep(3)\n",
    "            \n",
    "\n",
    "            \n",
    "            \n",
    "            \n",
    "            "
   ]
  },
  {
   "cell_type": "code",
   "execution_count": null,
   "metadata": {},
   "outputs": [],
   "source": []
  },
  {
   "cell_type": "code",
   "execution_count": null,
   "metadata": {},
   "outputs": [],
   "source": []
  }
 ],
 "metadata": {
  "kernelspec": {
   "display_name": "Python 3",
   "language": "python",
   "name": "python3"
  },
  "language_info": {
   "codemirror_mode": {
    "name": "ipython",
    "version": 3
   },
   "file_extension": ".py",
   "mimetype": "text/x-python",
   "name": "python",
   "nbconvert_exporter": "python",
   "pygments_lexer": "ipython3",
   "version": "3.8.3"
  }
 },
 "nbformat": 4,
 "nbformat_minor": 4
}
